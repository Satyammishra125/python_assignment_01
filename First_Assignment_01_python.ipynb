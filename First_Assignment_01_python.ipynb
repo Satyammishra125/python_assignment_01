{
 "cells": [
  {
   "cell_type": "markdown",
   "id": "0a7d0dea-3a59-46b0-a89d-746ddeb7f9a1",
   "metadata": {},
   "source": [
    "# My First Assignment Python"
   ]
  },
  {
   "cell_type": "markdown",
   "id": "30f7e4c2-964b-47b7-b9d7-454e6d1213d1",
   "metadata": {
    "tags": []
   },
   "source": [
    "## Question 1.Explain the key features of Python that make it a popular choice for programming.\n",
    "There are some key features of Python that make it a popular choice for programming. \n",
    "they are :\n",
    "1. Simple and Readable Syntax:\n",
    "    -> Python's syntax is clear and so simple, which make it accessible for \n",
    "    beginners. It emphasizes readability and reduces the complexity of \n",
    "    writing and maintaning code.\n",
    "2. High-Level Language:\n",
    "    -> Python abstracts away much of the complexity involved in memory\n",
    "    management and lower-level programming tasks. This allows developers \n",
    "    to focus more on solving problems rather than managing the \n",
    "    intricacies of the hardware.\n",
    "3. Dynamic Typing:\n",
    "    -> Python uses dynamic type, which means we don't have to declare the\n",
    "    type of a variable when you create it. This feature speed up to make \n",
    "    the code easier to write and read.\n",
    "4. Interpreted Language:\n",
    "    -> Python is an interpreted language, meaning it executes code line by line,\n",
    "    which makes debugging and testing faster.\n",
    "5. Vast Library:\n",
    "    ->Python Programming Language have a lot of libraries more than\n",
    "    1,37,000 libraries which are used in Machine Learning, Data Implementation,\n",
    "    Data Science, Data Manipulation and Visualisation and more.\n",
    "6. Community and Ecosystem:\n",
    "    -> Python has a large and active community that contributes to a \n",
    "    vast ecosystem of third-party libraries and frameworks. Tools like \n",
    "    NumPy, Pandas, TensorFlow, and Django extend Python’s functionality \n",
    "    and make it suitable for a wide range of applications, from \n",
    "    web development to data science.\n",
    "\n",
    "7.  Versatility:->\n",
    "    Python is used in various domains, including web development (Django, Flask), data science and machine learning (Pandas, Scikit-Learn), automation (Selenium, scripts), and even game development (Pygame). Its versatility makes it a valuable tool for many different types of projects.\n",
    "8.  Object-oriented and Functional Programming:->\n",
    "    Python supports multiple programming paradigms, including object-oriented programming (OOP) and functional programming. This flexibility allows developers to choose the best approach for their particular needs.\n",
    "9.  Strong Integration Capabilities:->\n",
    "    Python can easily interface with other languages like C/C++ and Java, as well as with various APIs and systems. This makes it possible to integrate Python with other technologies and leverage existing codebases.\n",
    "10. Education Value:-> \n",
    "    Python is often used as a first programming language in educational settings due to its simplicity and readability. Learning Python provides a solid foundation for understanding more complex programming concepts and languages.\n",
    "11. Cross-Platform Compatibility:->\n",
    "    Python is available on various platforms, including Windows, macOS, and Linux. This cross-platform nature ensures that Python code can run on different operating systems with minimal modification.\n",
    "### These features make widely usable and popular in all over world.\n",
    "    "
   ]
  },
  {
   "cell_type": "markdown",
   "id": "52861f74-0b03-449d-8c2c-0a6a72601a4e",
   "metadata": {},
   "source": [
    "## Question 2. Describe the role of predefined keywords in Python and Provide examples of how they are used in a program.\n",
    "##### Keywords are reserved words in Python that have special meanings and cannot be used as identifiers (variable names, function names, etc.). \n",
    "##### Here's a overview of some key predefined keywords in Python,along with examples of how they are used:\n",
    "### Key Features of Keywords\n",
    "##### 1. Reserved: Keywords have a predefined meaning and cannot be redefined or used for other purposes. For instance, you cannot name a variable 'class' or 'if'.\n",
    "##### 2. Syntax and Control Flow: Many keywords are used to control the flow of execution and structure of the code, such as 'if', 'for', 'while', 'try', and 'except'.\n",
    "##### 3. Data Structures and Definitions: Keywords like 'def', 'class', and 'return' are used to define functions, classes, and return values.\n",
    "### Examples of Python Keywords in Use"
   ]
  },
  {
   "cell_type": "markdown",
   "id": "92495127-2146-4a6f-8351-57b758d20098",
   "metadata": {},
   "source": [
    "#### 1. 'if','elif','else': Used for conditional statements"
   ]
  },
  {
   "cell_type": "code",
   "execution_count": 3,
   "id": "9670cb06-f3fa-4b7f-a842-81d378d4d2b0",
   "metadata": {},
   "outputs": [
    {
     "name": "stdout",
     "output_type": "stream",
     "text": [
      "x is greater than 5\n"
     ]
    }
   ],
   "source": [
    "x = 10\n",
    "if x > 5:\n",
    "    print(\"x is greater than 5\")\n",
    "elif x == 5:\n",
    "    print(\"x is equal to 5\")\n",
    "else:\n",
    "    print(\"x is less than 5\")"
   ]
  },
  {
   "cell_type": "markdown",
   "id": "4582766e-0cb8-445f-b29f-ccfcd4750af8",
   "metadata": {},
   "source": [
    "#### 2. 'for','while': used for looping."
   ]
  },
  {
   "cell_type": "code",
   "execution_count": 11,
   "id": "c5279957-e705-49d0-ae5d-82a594aee0bf",
   "metadata": {},
   "outputs": [
    {
     "name": "stdout",
     "output_type": "stream",
     "text": [
      "0\n",
      "1\n",
      "2\n",
      "3\n",
      "4\n",
      "0\n",
      "1\n",
      "2\n",
      "3\n",
      "4\n"
     ]
    }
   ],
   "source": [
    "#using for loop\n",
    "for i in range(5):\n",
    "    print(i)\n",
    "    \n",
    "#using while loop\n",
    "count = 0\n",
    "while count <5:\n",
    "    print(count)\n",
    "    count += 1"
   ]
  },
  {
   "cell_type": "markdown",
   "id": "c92340d4-54ea-4791-a6bc-9283908ddab5",
   "metadata": {},
   "source": [
    "#### 3. 'def': Used to define functions."
   ]
  },
  {
   "cell_type": "code",
   "execution_count": 14,
   "id": "fb17e3f4-fced-4c73-8ad8-73d46a0a964a",
   "metadata": {},
   "outputs": [
    {
     "name": "stdout",
     "output_type": "stream",
     "text": [
      "Hello, Satyam!\n"
     ]
    }
   ],
   "source": [
    "def greet(name):\n",
    "    return f\"Hello, {name}!\"\n",
    "print(greet(\"Satyam\"))"
   ]
  },
  {
   "cell_type": "markdown",
   "id": "fba6f7e4-d568-4d00-b9de-df3085dc5959",
   "metadata": {},
   "source": [
    "#### 4. 'class': Used to define classes."
   ]
  },
  {
   "cell_type": "code",
   "execution_count": 17,
   "id": "354bb3e0-68b5-47e6-88d6-51c1b5291a92",
   "metadata": {},
   "outputs": [
    {
     "name": "stdout",
     "output_type": "stream",
     "text": [
      "Buddy says woof!\n"
     ]
    }
   ],
   "source": [
    "class Dog:\n",
    "    def __init__(self, name):\n",
    "        self.name = name\n",
    "        \n",
    "    def bark(self):\n",
    "        return f\"{self.name} says woof!\"\n",
    "my_dog = Dog(\"Buddy\")\n",
    "print(my_dog.bark())"
   ]
  },
  {
   "cell_type": "markdown",
   "id": "75990123-5bec-4726-9a56-54c1befb3b22",
   "metadata": {
    "tags": []
   },
   "source": [
    "#### 5. 'try', 'except', 'finally': Used for exception handling."
   ]
  },
  {
   "cell_type": "code",
   "execution_count": 18,
   "id": "929b90c3-7115-4d70-96a6-4e753ade4318",
   "metadata": {},
   "outputs": [
    {
     "name": "stdout",
     "output_type": "stream",
     "text": [
      "Cannot divide by zero!\n",
      "Execution completed.\n"
     ]
    }
   ],
   "source": [
    "try:\n",
    "    result = 10 / 0\n",
    "except ZeroDivisionError:\n",
    "    print(\"Cannot divide by zero!\")\n",
    "finally:\n",
    "    print(\"Execution completed.\")"
   ]
  },
  {
   "cell_type": "markdown",
   "id": "81f618f5-6f0a-41ca-adf6-fc0865bfd5db",
   "metadata": {
    "tags": []
   },
   "source": [
    "#### 6.'import': Used to include modules."
   ]
  },
  {
   "cell_type": "code",
   "execution_count": 19,
   "id": "05d75d36-cfc3-43a5-b277-9a281fc9e287",
   "metadata": {},
   "outputs": [
    {
     "name": "stdout",
     "output_type": "stream",
     "text": [
      "4.0\n"
     ]
    }
   ],
   "source": [
    "import math\n",
    "print(math.sqrt(16))"
   ]
  },
  {
   "cell_type": "markdown",
   "id": "b7e606f1-f667-4013-860e-41234eb143b8",
   "metadata": {},
   "source": [
    "#### 7. 'return': Used to return a value from a function."
   ]
  },
  {
   "cell_type": "code",
   "execution_count": 20,
   "id": "c8c20264-0ece-4c61-8e42-3e3e8b60aafa",
   "metadata": {},
   "outputs": [
    {
     "name": "stdout",
     "output_type": "stream",
     "text": [
      "16\n"
     ]
    }
   ],
   "source": [
    "def square(x):\n",
    "    return x * x\n",
    "\n",
    "print(square(4))"
   ]
  },
  {
   "cell_type": "markdown",
   "id": "06b349e8-ba26-4412-882d-70cf71407ee8",
   "metadata": {},
   "source": [
    "#### 8. 'with': Used for resource management (context managers)."
   ]
  },
  {
   "cell_type": "raw",
   "id": "4ea8636c-8efe-4142-bd19-32ae9f0dd702",
   "metadata": {
    "jupyter": {
     "outputs_hidden": true
    },
    "tags": []
   },
   "source": [
    "with open(\"file.txt\",\"r\") as file:\n",
    "    content = file.read()\n",
    "print(content)"
   ]
  },
  {
   "cell_type": "markdown",
   "id": "72dce20d-ab20-4aa5-8e4f-65645ab52f60",
   "metadata": {},
   "source": [
    "#### 9.'pass': A placeholder for future code (does nothing)"
   ]
  },
  {
   "cell_type": "code",
   "execution_count": 23,
   "id": "7f62643d-bebe-4bab-97e4-8c920a8c59d7",
   "metadata": {},
   "outputs": [],
   "source": [
    "def placeholder_function():\n",
    "    pass #This function does nothing yet"
   ]
  },
  {
   "cell_type": "markdown",
   "id": "ef65d61d-5904-4d63-b4ba-7a31af69702b",
   "metadata": {},
   "source": [
    "#### 10. 'yield': Used in generator functions to produce a sequence of values."
   ]
  },
  {
   "cell_type": "code",
   "execution_count": 24,
   "id": "759d14bd-340f-4ded-a057-c99309e1fae4",
   "metadata": {},
   "outputs": [
    {
     "name": "stdout",
     "output_type": "stream",
     "text": [
      "1\n",
      "2\n",
      "3\n",
      "4\n",
      "5\n"
     ]
    }
   ],
   "source": [
    "def count_up_to(max):\n",
    "    count = 1\n",
    "    while count <= max:\n",
    "        yield count\n",
    "        count += 1\n",
    "\n",
    "for num in count_up_to(5):\n",
    "    print(num)"
   ]
  },
  {
   "cell_type": "markdown",
   "id": "d6b12766-a0a2-4515-8e8f-bf605e2bb93f",
   "metadata": {},
   "source": [
    "### Complete List of Python Keywords"
   ]
  },
  {
   "cell_type": "markdown",
   "id": "76161536-4a03-41a6-bada-55dcf161cfe2",
   "metadata": {},
   "source": [
    "### As of Python 3.11, here is a list of Python keywords:"
   ]
  },
  {
   "cell_type": "raw",
   "id": "3b995eeb-d509-44fd-965d-d8bc2410dabe",
   "metadata": {},
   "source": [
    "-> 'False'\n",
    "-> 'None'\n",
    "-> 'True'\n",
    "-> 'and'\n",
    "-> 'as'\n",
    "-> 'assert'\n",
    "-> 'async'\n",
    "-> 'await'\n",
    "-> 'break'\n",
    "-> 'class'\n",
    "-> 'continue'\n",
    "-> 'def'\n",
    "-> 'del'\n",
    "-> 'elif'\n",
    "-> 'else'\n",
    "-> 'except'\n",
    "-> 'finally'\n",
    "-> 'for'\n",
    "-> 'from'\n",
    "-> 'global'\n",
    "-> 'import'\n",
    "-> 'in'\n",
    "-> 'is'\n",
    "-> 'lambda'\n",
    "-> 'nonlocal'\n",
    "-> 'not'\n",
    "-> 'or'\n",
    "-> 'pass'\n",
    "-> 'raise'\n",
    "-> 'return'\n",
    "-> 'try'\n",
    "-> 'while'\n",
    "-> 'with'\n",
    "-> 'yield'\n",
    "\n",
    "Each keyword serves a specific role in Python programming, enabling developers to write clear and functional code.\n"
   ]
  },
  {
   "cell_type": "markdown",
   "id": "4553a1ad-3fb7-46ed-a8c1-d1969a39a224",
   "metadata": {},
   "source": [
    "## Question 3. Compare and contrast mutable and immutable objects in Python with examples.\n",
    "In Python, objects are categorized into mutable and immutable types based on whether their state or value can be changed after they are created. Understanding the difference between these two categories is essential for effective programming and managing state in your applications.\n",
    "\n",
    "### Mutable Objects\n",
    "Definition: Mutable objects are those whose value or state can be changed after they are created. This means that the object can be modified in place.\n",
    "\n",
    "Examples: Lists, dictionaries, and sets are common mutable objects in Python.\n",
    "\n",
    "#### Characteristics:\n",
    "\n",
    "Modification: You can change the content of the object without creating a new object.\n",
    "Identity: Even if the content changes, the object's identity (its address in memory) remains the same.\n",
    "#### Examples and usage:"
   ]
  },
  {
   "cell_type": "markdown",
   "id": "c6fba62a-d0e8-4a67-8fe0-7abf21f28a9c",
   "metadata": {},
   "source": [
    "#### 1. Lists:"
   ]
  },
  {
   "cell_type": "code",
   "execution_count": 27,
   "id": "5659bf05-29e1-4dc9-8517-a8ae3455d387",
   "metadata": {},
   "outputs": [
    {
     "name": "stdout",
     "output_type": "stream",
     "text": [
      "[1, 2, 3]\n",
      "[1, 2, 3, 4]\n"
     ]
    }
   ],
   "source": [
    "my_list = [1, 2, 3]\n",
    "print(my_list)  # Output: [1, 2, 3]\n",
    "my_list.append(4)\n",
    "print(my_list)  # Output: [1, 2, 3, 4]"
   ]
  },
  {
   "cell_type": "markdown",
   "id": "1f038806-65cc-4e85-9e6c-cb270139c8e4",
   "metadata": {},
   "source": [
    "#### 2. Dictionaries"
   ]
  },
  {
   "cell_type": "code",
   "execution_count": 33,
   "id": "169284ec-5850-429a-b04f-5fe94d7d22ef",
   "metadata": {},
   "outputs": [
    {
     "name": "stdout",
     "output_type": "stream",
     "text": [
      "{'name': 'Satyam', 'age': 25}\n",
      "{'name': 'Satyam', 'age': 26}\n"
     ]
    }
   ],
   "source": [
    "my_dict = {'name': 'Satyam', 'age': 25}\n",
    "print(my_dict)  # Output: {'name': 'Satyam', 'age': 25}\n",
    "my_dict['age'] = 26\n",
    "print(my_dict)  # Output: {'name': 'Satyam', 'age': 26}"
   ]
  },
  {
   "cell_type": "markdown",
   "id": "0349a5c6-40b6-47c2-b4dd-505b4a52175a",
   "metadata": {},
   "source": [
    "#### 3. Sets:"
   ]
  },
  {
   "cell_type": "code",
   "execution_count": 35,
   "id": "eb5ed733-4e67-4e72-ba8f-31c0851a04ab",
   "metadata": {},
   "outputs": [
    {
     "name": "stdout",
     "output_type": "stream",
     "text": [
      "{1, 2, 3}\n",
      "{1, 2, 3, 4}\n"
     ]
    }
   ],
   "source": [
    "my_set = {1, 2, 3}\n",
    "print(my_set)  # Output: {1, 2, 3}\n",
    "my_set.add(4)\n",
    "print(my_set)  # Output: {1, 2, 3, 4}"
   ]
  },
  {
   "cell_type": "markdown",
   "id": "3b061fac-7c9a-4af2-808a-106f995d778d",
   "metadata": {},
   "source": [
    "### Immutable Objects\n",
    "##### Definition: Immutable objects are those whose value or state cannot be changed after they are created. Any modification will result in the creation of a new object.\n",
    "####  Examples: Tuples, strings, and integers are common immutable objects in Python.\n",
    "#### Characteristics:\n",
    "##### -> Modification: You cannot change the content of the object in place; you need to create a new object if you want to modify its value.\n",
    "##### -> Identity: The object's identity (its address in memory) remains the same if its value remains unchanged.\n",
    "#### Examples and Usage:"
   ]
  },
  {
   "cell_type": "code",
   "execution_count": 36,
   "id": "cfed2ede-f0c5-4d08-80f0-b2bd0db18e29",
   "metadata": {},
   "outputs": [
    {
     "name": "stdout",
     "output_type": "stream",
     "text": [
      "(1, 2, 3)\n"
     ]
    }
   ],
   "source": [
    "#1 Tupples:\n",
    "my_tuple = (1, 2, 3)\n",
    "print(my_tuple)  # Output: (1, 2, 3)\n",
    "# my_tuple[0] = 4  # This would raise a TypeError because tuples are immutable"
   ]
  },
  {
   "cell_type": "code",
   "execution_count": 37,
   "id": "de59b1c4-e04f-432b-ae2b-cb63b2abc01e",
   "metadata": {},
   "outputs": [
    {
     "name": "stdout",
     "output_type": "stream",
     "text": [
      "hello\n",
      "jello\n",
      "hello\n"
     ]
    }
   ],
   "source": [
    "#2 Strings:\n",
    "my_str = \"hello\"\n",
    "print(my_str)  # Output: hello\n",
    "new_str = my_str.replace(\"h\", \"j\")\n",
    "print(new_str)  # Output: jello\n",
    "print(my_str)   # Output: hello (original string remains unchanged)"
   ]
  },
  {
   "cell_type": "code",
   "execution_count": 38,
   "id": "35082d4e-edb2-473b-be50-868f65e22c21",
   "metadata": {},
   "outputs": [
    {
     "name": "stdout",
     "output_type": "stream",
     "text": [
      "10\n",
      "15\n"
     ]
    }
   ],
   "source": [
    "#3 Integers:\n",
    "my_int = 10\n",
    "print(my_int)  # Output: 10\n",
    "my_int += 5\n",
    "print(my_int)  # Output: 15 (a new integer object is created; the old one is discarded)"
   ]
  },
  {
   "cell_type": "markdown",
   "id": "c48c7657-f091-46fa-b743-b926f1d81414",
   "metadata": {},
   "source": [
    "### Comparison and Contrast\n",
    "#### 1. Modification:\n",
    "\n",
    "-> Mutable: Can be modified in place (e.g., list elements can be updated).\n",
    "-> Immutable: Cannot be modified; any changes result in a new object being created.\n",
    "#### 2. Performance:\n",
    "\n",
    "-> Mutable: Often more memory-efficient for operations that involve changing the object frequently.\n",
    "-> Immutable: Can lead to higher memory usage if many modifications are required, as new objects are created for each change.\n",
    "#### 3. Use Cases:\n",
    "\n",
    "-> Mutable: Suitable for objects that need to be changed frequently, such as lists of items, dictionaries for key-value pairs, etc.\n",
    "-> Immutable: Ideal for objects that should not change after creation, such as fixed configurations, keys in dictionaries, or string constants.\n",
    "#### 4. Hashing:\n",
    "\n",
    "-> Mutable: Objects like lists cannot be hashed and used as dictionary keys because their state can change.\n",
    "-> Immutable: Objects like tuples and strings can be hashed and used as dictionary keys because their state is fixed.\n",
    "##### Understanding these properties helps in choosing the right data structure and in designing functions and algorithms that work efficiently with both mutable and immutable types."
   ]
  },
  {
   "cell_type": "markdown",
   "id": "5ff929f3-a668-43b5-b133-202b912d66c5",
   "metadata": {},
   "source": [
    "## Question 4.  Discuss the different types of operators in Python and provide examples of how they are used"
   ]
  },
  {
   "cell_type": "markdown",
   "id": "7abf9050-f0be-45f6-8fbb-fe79999e9d7f",
   "metadata": {},
   "source": [
    "In Python, operators are special symbols or keywords used to perform operations on operands (variables, values, etc.). They are categorized into several types based on the nature of the operations they perform. Here’s a comprehensive overview of the different types of operators in Python, along with examples for each:\n",
    "### 1. Arithmetic Operators\n",
    "Arithmetic operators are used to perform mathematical operations."
   ]
  },
  {
   "cell_type": "code",
   "execution_count": 2,
   "id": "1a716a77-6363-40aa-b862-83e1abf9f0ee",
   "metadata": {},
   "outputs": [
    {
     "data": {
      "text/plain": [
       "8"
      ]
     },
     "execution_count": 2,
     "metadata": {},
     "output_type": "execute_result"
    }
   ],
   "source": [
    "# Addition ('+'): Adds two operands\n",
    "a = 5\n",
    "b = 3\n",
    "result = a + b # result is 8\n",
    "result"
   ]
  },
  {
   "cell_type": "code",
   "execution_count": 3,
   "id": "a377662f-823b-48cc-9095-bb67709ff58b",
   "metadata": {},
   "outputs": [
    {
     "data": {
      "text/plain": [
       "2"
      ]
     },
     "execution_count": 3,
     "metadata": {},
     "output_type": "execute_result"
    }
   ],
   "source": [
    "# Subtraction ('-'): Subtracts the second operand from the first.\n",
    "result = a - b # result is 2\n",
    "result"
   ]
  },
  {
   "cell_type": "code",
   "execution_count": 4,
   "id": "a862b865-c0d9-4e63-b495-dd7417596497",
   "metadata": {},
   "outputs": [
    {
     "data": {
      "text/plain": [
       "15"
      ]
     },
     "execution_count": 4,
     "metadata": {},
     "output_type": "execute_result"
    }
   ],
   "source": [
    "# Multilication ('*'): Multiplies two operands.\n",
    "result = a * b # result is 15 \n",
    "result "
   ]
  },
  {
   "cell_type": "code",
   "execution_count": 5,
   "id": "b8d29ffb-5fd5-43db-88e6-fb90148cf47f",
   "metadata": {},
   "outputs": [
    {
     "data": {
      "text/plain": [
       "1.6666666666666667"
      ]
     },
     "execution_count": 5,
     "metadata": {},
     "output_type": "execute_result"
    }
   ],
   "source": [
    "# Division ('/'): Divides the first operand by the second and returns a float.\n",
    "result = a / b # result 1.6666666666666667\n",
    "result "
   ]
  },
  {
   "cell_type": "code",
   "execution_count": 6,
   "id": "7263d911-1c58-49e4-9155-27d99e1ffb79",
   "metadata": {},
   "outputs": [
    {
     "data": {
      "text/plain": [
       "1"
      ]
     },
     "execution_count": 6,
     "metadata": {},
     "output_type": "execute_result"
    }
   ],
   "source": [
    "# Floor Division ('//'): Divides the first operand by the second and returns the largest integer less than or equal to the result.\n",
    "result = a // b #result is 1\n",
    "result"
   ]
  },
  {
   "cell_type": "code",
   "execution_count": 7,
   "id": "98048655-7647-4578-91c5-b114fe09d20a",
   "metadata": {},
   "outputs": [
    {
     "data": {
      "text/plain": [
       "2"
      ]
     },
     "execution_count": 7,
     "metadata": {},
     "output_type": "execute_result"
    }
   ],
   "source": [
    "# Modulus ('%'): Returns the remainder of the division.\n",
    "result = a % b # result is 2\n",
    "result "
   ]
  },
  {
   "cell_type": "code",
   "execution_count": 8,
   "id": "63ee292e-f320-43b6-83f6-0c9ca15c7c00",
   "metadata": {},
   "outputs": [
    {
     "data": {
      "text/plain": [
       "125"
      ]
     },
     "execution_count": 8,
     "metadata": {},
     "output_type": "execute_result"
    }
   ],
   "source": [
    "#Exponentiation ('**'): Raises the first operand to the power of the second.\n",
    "result = a**b #result is 125\n",
    "result"
   ]
  },
  {
   "cell_type": "markdown",
   "id": "82448745-f202-417b-8224-3e999e958b0e",
   "metadata": {},
   "source": [
    "### Comparison Operators\n",
    "Comparison operators are used to compare two values and return a Boolean result ('True' or 'False')."
   ]
  },
  {
   "cell_type": "code",
   "execution_count": 11,
   "id": "13fb0702-59d3-4437-89f3-7821d4ec716a",
   "metadata": {},
   "outputs": [
    {
     "data": {
      "text/plain": [
       "False"
      ]
     },
     "execution_count": 11,
     "metadata": {},
     "output_type": "execute_result"
    }
   ],
   "source": [
    "#Equal to ('=='): Checks if two values are equal.\n",
    "result = (a == b) #result is False\n",
    "result"
   ]
  },
  {
   "cell_type": "code",
   "execution_count": 12,
   "id": "eb18a979-0960-46bd-abf0-b31c469064bc",
   "metadata": {},
   "outputs": [
    {
     "data": {
      "text/plain": [
       "True"
      ]
     },
     "execution_count": 12,
     "metadata": {},
     "output_type": "execute_result"
    }
   ],
   "source": [
    "#Not equal to ('!='): Checks if two values are not equal.\n",
    "result = (a != b)  # result is True\n",
    "result"
   ]
  },
  {
   "cell_type": "code",
   "execution_count": 16,
   "id": "a40d5b50-2dc3-4ba1-82f0-44f9b10ebd88",
   "metadata": {},
   "outputs": [
    {
     "data": {
      "text/plain": [
       "True"
      ]
     },
     "execution_count": 16,
     "metadata": {},
     "output_type": "execute_result"
    }
   ],
   "source": [
    "#Greater than (>): Checks if the first value is greater than the second.\n",
    "result = (a > b)  # result is True\n",
    "result"
   ]
  },
  {
   "cell_type": "code",
   "execution_count": 52,
   "id": "814c8117-7b73-4412-8b68-8d3019b262c8",
   "metadata": {},
   "outputs": [
    {
     "data": {
      "text/plain": [
       "False"
      ]
     },
     "execution_count": 52,
     "metadata": {},
     "output_type": "execute_result"
    }
   ],
   "source": [
    "#Less than ('<'): Checks if the first value is less than the second.\n",
    "result = (a < b)  # result is False\n",
    "result"
   ]
  },
  {
   "cell_type": "code",
   "execution_count": 51,
   "id": "03a4d325-a629-44a4-aec4-f2e27a15761e",
   "metadata": {},
   "outputs": [
    {
     "data": {
      "text/plain": [
       "True"
      ]
     },
     "execution_count": 51,
     "metadata": {},
     "output_type": "execute_result"
    }
   ],
   "source": [
    "#Greater than or equal to ('>='): Checks if the first value is greater than or equal to the second.\n",
    "result = (a >= b)  # result is True\n",
    "result"
   ]
  },
  {
   "cell_type": "code",
   "execution_count": 50,
   "id": "aadde990-616f-4aeb-b224-d8459084c2cc",
   "metadata": {},
   "outputs": [
    {
     "data": {
      "text/plain": [
       "False"
      ]
     },
     "execution_count": 50,
     "metadata": {},
     "output_type": "execute_result"
    }
   ],
   "source": [
    "#Less than or equal to ('<='): Checks if the first value is less than or equal to the second.\n",
    "result = (a <= b)  # result is False\n",
    "result"
   ]
  },
  {
   "cell_type": "markdown",
   "id": "085ac1c2-c945-402e-a7b2-1ca7c2fe69ad",
   "metadata": {},
   "source": [
    "### 3. Logical Operators\n",
    "Logical operators are used to combine conditional statements."
   ]
  },
  {
   "cell_type": "code",
   "execution_count": 20,
   "id": "d49e3680-87c0-4531-ba43-59680a8eda98",
   "metadata": {},
   "outputs": [
    {
     "data": {
      "text/plain": [
       "True"
      ]
     },
     "execution_count": 20,
     "metadata": {},
     "output_type": "execute_result"
    }
   ],
   "source": [
    "#And ('and'): Returns 'True' if both operands are 'True'.\n",
    "result = (a > b) and (b > 0)  # result is True\n",
    "result"
   ]
  },
  {
   "cell_type": "code",
   "execution_count": 49,
   "id": "b3ecf07d-ed61-4003-a07b-7184430a1016",
   "metadata": {},
   "outputs": [
    {
     "data": {
      "text/plain": [
       "True"
      ]
     },
     "execution_count": 49,
     "metadata": {},
     "output_type": "execute_result"
    }
   ],
   "source": [
    "# Or ('or'): Returns True if at least one of the operands is True.\n",
    "result = (a > b) or (b < 0)  # result is True\n",
    "result"
   ]
  },
  {
   "cell_type": "code",
   "execution_count": 48,
   "id": "dea025b2-f576-434e-921c-266c7141f1d7",
   "metadata": {},
   "outputs": [
    {
     "data": {
      "text/plain": [
       "False"
      ]
     },
     "execution_count": 48,
     "metadata": {},
     "output_type": "execute_result"
    }
   ],
   "source": [
    "#Not ('not'): Returns True if the operand is False.\n",
    "result = not (a > b)  # result is False\n",
    "result"
   ]
  },
  {
   "cell_type": "markdown",
   "id": "10119aa0-132c-454f-b2b6-662d64039d8f",
   "metadata": {},
   "source": [
    "### 4. Assigment Operators\n",
    "Assignment operators are used to assign values to variables."
   ]
  },
  {
   "cell_type": "code",
   "execution_count": 31,
   "id": "31203977-34bf-4c9f-81d9-f8688a0f3fff",
   "metadata": {},
   "outputs": [
    {
     "data": {
      "text/plain": [
       "10"
      ]
     },
     "execution_count": 31,
     "metadata": {},
     "output_type": "execute_result"
    }
   ],
   "source": [
    "#Assignment ('='): Assigns a value to a variable.\n",
    "x = 10\n",
    "x"
   ]
  },
  {
   "cell_type": "code",
   "execution_count": 32,
   "id": "56b618b7-1f79-4abe-acef-a632be9a194d",
   "metadata": {},
   "outputs": [
    {
     "data": {
      "text/plain": [
       "15"
      ]
     },
     "execution_count": 32,
     "metadata": {},
     "output_type": "execute_result"
    }
   ],
   "source": [
    "#Add and assign ('+='): Adds the right operand to the left operand and assigns the result to the left operand.\n",
    "x += 5 # x is now 15\n",
    "x"
   ]
  },
  {
   "cell_type": "code",
   "execution_count": 33,
   "id": "8fd2360d-0715-48b8-a63e-6dd1427828fc",
   "metadata": {},
   "outputs": [
    {
     "data": {
      "text/plain": [
       "12"
      ]
     },
     "execution_count": 33,
     "metadata": {},
     "output_type": "execute_result"
    }
   ],
   "source": [
    "#Subtract and assign ('-='): Subtracts the right operand from the left operand and assigns the result to the left operand.\n",
    "x -= 3  # x is now 12\n",
    "x"
   ]
  },
  {
   "cell_type": "code",
   "execution_count": 34,
   "id": "28836aab-909a-434a-a2ee-6cdd085b8dc5",
   "metadata": {},
   "outputs": [
    {
     "data": {
      "text/plain": [
       "24"
      ]
     },
     "execution_count": 34,
     "metadata": {},
     "output_type": "execute_result"
    }
   ],
   "source": [
    "#Multiply and assign ('*='): Multiplies the left operand by the right operand and assigns the result to the left operand.\n",
    "x *= 2  # x is now 24\n",
    "x"
   ]
  },
  {
   "cell_type": "code",
   "execution_count": 47,
   "id": "fd31e10c-9b4d-4ffb-8948-9c513f02daef",
   "metadata": {},
   "outputs": [
    {
     "data": {
      "text/plain": [
       "0.25"
      ]
     },
     "execution_count": 47,
     "metadata": {},
     "output_type": "execute_result"
    }
   ],
   "source": [
    "#Divide and assign ('/='): Divides the left operand by the right operand and assigns the result to the left operand.\n",
    "x /= 4  # x is now 6.0\n",
    "x"
   ]
  },
  {
   "cell_type": "code",
   "execution_count": 37,
   "id": "24ecb8fa-80a1-448c-a8da-c3fb5a826101",
   "metadata": {},
   "outputs": [
    {
     "data": {
      "text/plain": [
       "1.0"
      ]
     },
     "execution_count": 37,
     "metadata": {},
     "output_type": "execute_result"
    }
   ],
   "source": [
    "#Modulus and assign ('%='): Takes the modulus of the left operand by the right operand and assigns the result to the left operand.\n",
    "x %= 5  # x is now 1.0\n",
    "x"
   ]
  },
  {
   "cell_type": "code",
   "execution_count": 46,
   "id": "1b0f86e3-3067-4cbf-8554-d788e38c8940",
   "metadata": {},
   "outputs": [
    {
     "data": {
      "text/plain": [
       "1.0"
      ]
     },
     "execution_count": 46,
     "metadata": {},
     "output_type": "execute_result"
    }
   ],
   "source": [
    "#Exponentiation and assign ('**='): Raises the left operand to the power of the right operand and assigns the result to the left operand.\n",
    "x **= 2  # x is now 1.0\n",
    "x"
   ]
  },
  {
   "cell_type": "markdown",
   "id": "bce9a261-6ec6-4347-bdf4-c5601be79a1a",
   "metadata": {},
   "source": [
    "### 5. Bitwise Operators\n",
    "Bitwise operators are used to perform bit-level operations on integers."
   ]
  },
  {
   "cell_type": "code",
   "execution_count": 40,
   "id": "cc66b9b2-e615-4f65-9a3a-da9d764089fa",
   "metadata": {},
   "outputs": [
    {
     "data": {
      "text/plain": [
       "0"
      ]
     },
     "execution_count": 40,
     "metadata": {},
     "output_type": "execute_result"
    }
   ],
   "source": [
    "#AND ('&'): Performs a bitwise AND operation.\n",
    "a = 10  # 1010 in binary\n",
    "b = 4   # 0100 in binary\n",
    "result = a & b  # result is 0 (0000 in binary)\n",
    "result"
   ]
  },
  {
   "cell_type": "code",
   "execution_count": 41,
   "id": "431b26fe-5738-42a0-8389-b0ee8bcc373f",
   "metadata": {},
   "outputs": [
    {
     "data": {
      "text/plain": [
       "14"
      ]
     },
     "execution_count": 41,
     "metadata": {},
     "output_type": "execute_result"
    }
   ],
   "source": [
    "#OR ('|'): Performs a bitwise OR operation.\n",
    "result = a | b  # result is 14 (1110 in binary)\n",
    "result"
   ]
  },
  {
   "cell_type": "code",
   "execution_count": 42,
   "id": "970ab29f-640a-4046-9269-efb77a6ff40c",
   "metadata": {},
   "outputs": [
    {
     "data": {
      "text/plain": [
       "14"
      ]
     },
     "execution_count": 42,
     "metadata": {},
     "output_type": "execute_result"
    }
   ],
   "source": [
    "#XOR ('^'): Performs a bitwise XOR operation.\n",
    "result = a ^ b  # result is 14 (1110 in binary)\n",
    "result"
   ]
  },
  {
   "cell_type": "code",
   "execution_count": 43,
   "id": "8569b65e-218f-4d6f-81c6-29f1ac81d6de",
   "metadata": {},
   "outputs": [
    {
     "data": {
      "text/plain": [
       "-11"
      ]
     },
     "execution_count": 43,
     "metadata": {},
     "output_type": "execute_result"
    }
   ],
   "source": [
    "#Complement ('~'): Performs a bitwise NOT operation (inverts all bits).\n",
    "\n",
    "result = ~a  # result is -11 (inverted bits of 10)\n",
    "result "
   ]
  },
  {
   "cell_type": "code",
   "execution_count": 44,
   "id": "1e22c23f-f67e-4bf9-abe6-d9c35b326eb7",
   "metadata": {},
   "outputs": [
    {
     "data": {
      "text/plain": [
       "20"
      ]
     },
     "execution_count": 44,
     "metadata": {},
     "output_type": "execute_result"
    }
   ],
   "source": [
    "#Left Shift ('<<'): Shifts bits to the left.\n",
    "result = a << 1  # result is 20 (10100 in binary)\n",
    "result"
   ]
  },
  {
   "cell_type": "code",
   "execution_count": 45,
   "id": "eb4399b1-945b-4348-b94b-92f6df11ecd2",
   "metadata": {},
   "outputs": [
    {
     "data": {
      "text/plain": [
       "5"
      ]
     },
     "execution_count": 45,
     "metadata": {},
     "output_type": "execute_result"
    }
   ],
   "source": [
    "#Right Shift ('>>'): Shifts bits to the right.\n",
    "result = a >> 1  # result is 5 (0101 in binary)\n",
    "result"
   ]
  },
  {
   "cell_type": "markdown",
   "id": "deb65a03-6114-4ec8-aa8f-4190d1e857f1",
   "metadata": {},
   "source": [
    "### 6. Identity Operators\n",
    "Identity operators are used to compare the memory locations of two objects."
   ]
  },
  {
   "cell_type": "code",
   "execution_count": 53,
   "id": "c3eb28c9-4500-4460-8310-f0cdbb7505e4",
   "metadata": {},
   "outputs": [
    {
     "data": {
      "text/plain": [
       "True"
      ]
     },
     "execution_count": 53,
     "metadata": {},
     "output_type": "execute_result"
    }
   ],
   "source": [
    "#'is': Returns 'True' if both operands refer to the same object.\n",
    "a = [1, 2, 3]\n",
    "b = a\n",
    "result = (a is b)  # result is True\n",
    "result"
   ]
  },
  {
   "cell_type": "code",
   "execution_count": 55,
   "id": "9a1f3278-9385-42a7-a2db-8f116a951684",
   "metadata": {},
   "outputs": [
    {
     "data": {
      "text/plain": [
       "True"
      ]
     },
     "execution_count": 55,
     "metadata": {},
     "output_type": "execute_result"
    }
   ],
   "source": [
    "#'is not': Returns 'True' if both operands do not refer to the same object.\n",
    "c = [1, 2, 3]\n",
    "result = (a is not c)  # result is True\n",
    "result"
   ]
  },
  {
   "cell_type": "markdown",
   "id": "8d0e0150-fbeb-4f5f-8dfd-35c9524beea2",
   "metadata": {},
   "source": [
    "### 7. Membership Operators\n",
    "Membership operators are used to test whether a value is a member of a sequence (like a list, tuple, or string)."
   ]
  },
  {
   "cell_type": "code",
   "execution_count": 56,
   "id": "647ccc2e-c2c9-4823-87b7-cbb6415b2d9e",
   "metadata": {},
   "outputs": [
    {
     "data": {
      "text/plain": [
       "True"
      ]
     },
     "execution_count": 56,
     "metadata": {},
     "output_type": "execute_result"
    }
   ],
   "source": [
    "#'in': Returns 'True' if the value is found in the sequence.\n",
    "a = [1, 2, 3]\n",
    "result = 2 in a  # result is True\n",
    "result"
   ]
  },
  {
   "cell_type": "code",
   "execution_count": 57,
   "id": "73f4012f-26ac-4322-999a-3b9b8c14594f",
   "metadata": {},
   "outputs": [
    {
     "data": {
      "text/plain": [
       "True"
      ]
     },
     "execution_count": 57,
     "metadata": {},
     "output_type": "execute_result"
    }
   ],
   "source": [
    "# 'ot in' Returns 'True' if the value is not found in the sequence.\n",
    "result = 4 not in a  # result is True\n",
    "result"
   ]
  },
  {
   "cell_type": "markdown",
   "id": "897909c1-1c6b-4f87-ad43-596f87465d36",
   "metadata": {},
   "source": [
    "### 8. Conditional Expressions\n",
    "Conditional expressions (also known as ternary operators) are used for conditional assignments."
   ]
  },
  {
   "cell_type": "code",
   "execution_count": 59,
   "id": "561edf3d-a3c9-450e-9f21-9d5a100a04ad",
   "metadata": {},
   "outputs": [
    {
     "data": {
      "text/plain": [
       "'Adult'"
      ]
     },
     "execution_count": 59,
     "metadata": {},
     "output_type": "execute_result"
    }
   ],
   "source": [
    "# 'x if condition else y': Returns 'x' if the condition is 'True', otherwise returns 'y''.\n",
    "age = 20\n",
    "status = \"Adult\" if age >= 18 else \"Minor\"\n",
    "status"
   ]
  },
  {
   "cell_type": "markdown",
   "id": "39e22bd5-f45c-4dab-a001-2e4e3db2f2b8",
   "metadata": {},
   "source": [
    "#### Summary\n",
    "Understanding and using these operators effectively allows for precise and efficient control over data and operations in Python programs. Each operator type plays a specific role in handling arithmetic, comparisons, logic, bitwise operations, and more.\n"
   ]
  },
  {
   "cell_type": "markdown",
   "id": "4c5d4831-a7e0-45cb-a5c5-4899e5d97020",
   "metadata": {},
   "source": [
    "## Ouestion 5.Explain the concept of type casting in Python with examples\n",
    "Type casting (or type conversion) in Python refers to the process of converting a value from one data type to another. This is often necessary when you need to ensure that data is in the correct format for operations or when combining different types of data. Python provides several built-in functions for type casting.\n",
    "### Common Type Casting Functions"
   ]
  },
  {
   "cell_type": "code",
   "execution_count": 63,
   "id": "853c7125-31c3-4843-b529-9228e9782366",
   "metadata": {
    "tags": []
   },
   "outputs": [],
   "source": [
    "#1 'int()': Converts a value to an integer.\n",
    "# Convert float to integer\n",
    "num_float = 5.7\n",
    "num_int = int(num_float)  # result is 5\n",
    "\n",
    "# Convert string to integer\n",
    "num_str = \"123\"\n",
    "num_int = int(num_str)  # result is 123\n",
    "\n",
    "# Invalid conversion\n",
    "# num_str = \"abc\"\n",
    "# num_int = int(num_str)  # This will raise a ValueError"
   ]
  },
  {
   "cell_type": "code",
   "execution_count": 62,
   "id": "1f1b7ce0-2ba9-4431-aea9-178b32ca958f",
   "metadata": {},
   "outputs": [],
   "source": [
    "#2 'float()': Converts a value to a float.\n",
    "# Convert integer to float\n",
    "num_int = 7\n",
    "num_float = float(num_int)  # result is 7.0\n",
    "\n",
    "# Convert string to float\n",
    "num_str = \"3.14\"\n",
    "num_float = float(num_str)  # result is 3.14\n",
    "\n",
    "# Invalid conversion\n",
    "# num_str = \"abc\"\n",
    "# num_float = float(num_str)  # This will raise a ValueError\n"
   ]
  },
  {
   "cell_type": "code",
   "execution_count": 64,
   "id": "73e558a4-db68-466d-bf2a-8933e20eb723",
   "metadata": {},
   "outputs": [],
   "source": [
    "#3 'str()': Converts a value to a string.\n",
    "# Convert integer to string\n",
    "num_int = 42\n",
    "num_str = str(num_int)  # result is \"42\"\n",
    "\n",
    "# Convert float to string\n",
    "num_float = 3.14\n",
    "num_str = str(num_float)  # result is \"3.14\""
   ]
  },
  {
   "cell_type": "code",
   "execution_count": 65,
   "id": "1f5a71b0-0f99-4f77-804c-9c3b8653b059",
   "metadata": {},
   "outputs": [],
   "source": [
    "#4 'bool()': Converts a value to a boolean ('True' or 'False').\n",
    "# Convert integer to boolean\n",
    "num_int = 0\n",
    "bool_value = bool(num_int)  # result is False\n",
    "\n",
    "num_int = 1\n",
    "bool_value = bool(num_int)  # result is True\n",
    "\n",
    "# Convert string to boolean\n",
    "str_value = \"\"\n",
    "bool_value = bool(str_value)  # result is False\n",
    "\n",
    "str_value = \"Hello\"\n",
    "bool_value = bool(str_value)  # result is True"
   ]
  },
  {
   "cell_type": "code",
   "execution_count": 66,
   "id": "b8e43258-0347-4558-aeaf-9680391627af",
   "metadata": {},
   "outputs": [],
   "source": [
    "#5 'list()': Converts a value to a list.\n",
    "# Convert string to list of characters\n",
    "str_value = \"hello\"\n",
    "list_value = list(str_value)  # result is ['h', 'e', 'l', 'l', 'o']\n",
    "\n",
    "# Convert tuple to list\n",
    "tuple_value = (1, 2, 3)\n",
    "list_value = list(tuple_value)  # result is [1, 2, 3]"
   ]
  },
  {
   "cell_type": "code",
   "execution_count": 67,
   "id": "fe90f233-9dea-410d-9e88-9f2f377ebf12",
   "metadata": {},
   "outputs": [],
   "source": [
    "#6 'tuple()': Converts a value to a tuple.\n",
    "# Convert list to tuple\n",
    "list_value = [1, 2, 3]\n",
    "tuple_value = tuple(list_value)  # result is (1, 2, 3)\n",
    "\n",
    "# Convert string to tuple of characters\n",
    "str_value = \"hello\"\n",
    "tuple_value = tuple(str_value)  # result is ('h', 'e', 'l', 'l', 'o')"
   ]
  },
  {
   "cell_type": "code",
   "execution_count": 68,
   "id": "2c03cac8-7977-433c-931b-81acfd843273",
   "metadata": {},
   "outputs": [],
   "source": [
    "#7 'set()': Converts a value to a set.\n",
    "# Convert list to set (removes duplicates)\n",
    "list_value = [1, 2, 2, 3]\n",
    "set_value = set(list_value)  # result is {1, 2, 3}\n",
    "\n",
    "# Convert string to set of characters\n",
    "str_value = \"hello\"\n",
    "set_value = set(str_value)  # result is {'h', 'e', 'l', 'o'}"
   ]
  },
  {
   "cell_type": "code",
   "execution_count": 69,
   "id": "bf463253-6c1b-48e8-ab63-c7df0d35ad4c",
   "metadata": {},
   "outputs": [],
   "source": [
    "#8 'dict()': Converts a sequence of key-value pairs into a dictionary.\n",
    "# Convert list of tuples to dictionary\n",
    "list_of_tuples = [('a', 1), ('b', 2)]\n",
    "dict_value = dict(list_of_tuples)  # result is {'a': 1, 'b': 2}\n",
    "\n",
    "# Convert string to dictionary (invalid usage example)\n",
    "# str_value = \"key=value\"\n",
    "# dict_value = dict(str_value)  # This will raise a TypeError"
   ]
  },
  {
   "cell_type": "markdown",
   "id": "de424f37-b298-4ade-9a73-ec5545be579f",
   "metadata": {},
   "source": [
    "### Examples of Type Casting"
   ]
  },
  {
   "cell_type": "code",
   "execution_count": 70,
   "id": "5a4369e0-9840-4e56-bb70-568530332e17",
   "metadata": {},
   "outputs": [
    {
     "name": "stdout",
     "output_type": "stream",
     "text": [
      "8\n"
     ]
    },
    {
     "data": {
      "text/plain": [
       "8"
      ]
     },
     "execution_count": 70,
     "metadata": {},
     "output_type": "execute_result"
    }
   ],
   "source": [
    "#1. Arithmetic Operations with Mixed Types:\n",
    "num1 = \"5\"\n",
    "num2 = 3\n",
    "result = int(num1) + num2  # Convert num1 to int before addition\n",
    "print(result)  # Output: 8\n",
    "result"
   ]
  },
  {
   "cell_type": "code",
   "execution_count": 71,
   "id": "2d3c0bb8-dc15-442e-9e4b-467e8de5347c",
   "metadata": {},
   "outputs": [
    {
     "name": "stdin",
     "output_type": "stream",
     "text": [
      "Enter a number:  46\n"
     ]
    },
    {
     "name": "stdout",
     "output_type": "stream",
     "text": [
      "92\n"
     ]
    },
    {
     "data": {
      "text/plain": [
       "46"
      ]
     },
     "execution_count": 71,
     "metadata": {},
     "output_type": "execute_result"
    }
   ],
   "source": [
    "# 2. User Input Handling:\n",
    "user_input = input(\"Enter a number: \")  # Input is always a string\n",
    "num = int(user_input)  # Convert input to integer\n",
    "print(num * 2)  # Output: (twice the entered number)\n",
    "num"
   ]
  },
  {
   "cell_type": "code",
   "execution_count": 72,
   "id": "628332b4-7b18-4959-86da-936d86171601",
   "metadata": {},
   "outputs": [
    {
     "name": "stdout",
     "output_type": "stream",
     "text": [
      "I am 30 years old and 5.9 feet tall.\n"
     ]
    },
    {
     "data": {
      "text/plain": [
       "'I am 30 years old and 5.9 feet tall.'"
      ]
     },
     "execution_count": 72,
     "metadata": {},
     "output_type": "execute_result"
    }
   ],
   "source": [
    "#3 Formatting Output:\n",
    "age = 30\n",
    "height = 5.9\n",
    "info = f\"I am {age} years old and {height} feet tall.\"\n",
    "print(info)  # Output: I am 30 years old and 5.9 feet tall.\n",
    "info"
   ]
  },
  {
   "cell_type": "markdown",
   "id": "4788be9f-05a0-4d55-94be-7f80ee43ab4e",
   "metadata": {},
   "source": [
    "### Summary\n",
    "Type casting in Python allows you to convert values from one type to another to perform operations, handle inputs, or format outputs. Understanding how to use these conversion functions effectively is crucial for data manipulation and ensuring your program behaves as expected."
   ]
  },
  {
   "cell_type": "markdown",
   "id": "f891a5ab-f421-4705-8b5a-5a3135d278a7",
   "metadata": {},
   "source": [
    "## Question 6.How do conditional statements work in Python? Illustrate with examples.\n",
    "Conditional statements in Python allow you to execute certain blocks of code based on whether a condition is 'True' or 'False'. They are fundamental for controlling the flow of a program based on dynamic conditions. Python provides several types of conditional statements, including 'if', 'elif', and 'else'.\n",
    "### Basic Structure\n",
    "The basic structure of a conditional statement in Python is:"
   ]
  },
  {
   "cell_type": "raw",
   "id": "c5932b87-ccf7-4f6a-9934-7e199083cbee",
   "metadata": {},
   "source": [
    "if condition:\n",
    "    # code to execute if condition is True\n",
    "elif another_condition:\n",
    "    # code to execute if another_condition is True\n",
    "else:\n",
    "    # code to execute if none of the above conditions are True"
   ]
  },
  {
   "cell_type": "markdown",
   "id": "f2862dfe-fee6-4ff0-9237-914b1fe15bae",
   "metadata": {},
   "source": [
    "### 'if' Statement\n",
    "The 'if' statement evaluates a condition and executes the associated block of code if the condition is 'True'.\n",
    "\n",
    "Example"
   ]
  },
  {
   "cell_type": "code",
   "execution_count": 74,
   "id": "1decb1ec-320e-4d5c-804a-ee8548cab962",
   "metadata": {},
   "outputs": [
    {
     "name": "stdout",
     "output_type": "stream",
     "text": [
      "x is greater than 5\n"
     ]
    }
   ],
   "source": [
    "x = 10\n",
    "\n",
    "if x > 5:\n",
    "    print(\"x is greater than 5\")"
   ]
  },
  {
   "cell_type": "raw",
   "id": "834b6e33-7628-4bc2-8c12-6fbfe7dc3afb",
   "metadata": {},
   "source": [
    "Explanation: In this example, the condition 'x > 5' is 'True', so the code inside the 'if' block ('print(\"x is greater than 5\")') is executed.\n",
    "\n",
    "'elif' Statement\n",
    "The 'elif' (short for \"else if\") statement allows you to check multiple conditions sequentially. If the initial 'if' condition is 'False', the program checks the 'elif' condition. You can have multiple 'elif' statements.\n",
    "\n",
    "Example:"
   ]
  },
  {
   "cell_type": "code",
   "execution_count": 75,
   "id": "cb2c2ae4-0ab1-4dc6-a92f-f0494db1d693",
   "metadata": {},
   "outputs": [
    {
     "name": "stdout",
     "output_type": "stream",
     "text": [
      "x is greater than 5 but less than or equal to 15\n"
     ]
    }
   ],
   "source": [
    "x = 10\n",
    "\n",
    "if x > 15:\n",
    "    print(\"x is greater than 15\")\n",
    "elif x > 5:\n",
    "    print(\"x is greater than 5 but less than or equal to 15\")\n",
    "else:\n",
    "    print(\"x is 5 or less\")"
   ]
  },
  {
   "cell_type": "raw",
   "id": "b56249d6-b0b6-4c55-b8ab-98030d94774e",
   "metadata": {},
   "source": [
    "Explanation: Here, 'x > 15' is 'False', so the program checks \n",
    "'x > 5'. Since this condition is 'True', it prints \"x is greater than 5 but less than or equal to 15\"."
   ]
  },
  {
   "cell_type": "markdown",
   "id": "a4d3d76c-5da6-4af2-bb3b-b63585ce7676",
   "metadata": {},
   "source": [
    "### 'else' Statement\n",
    "The 'else' statement is optional and executes a block of code if none of the preceding conditions ('if' or 'elif') are True.\n",
    "\n",
    "Example:"
   ]
  },
  {
   "cell_type": "code",
   "execution_count": 1,
   "id": "3cc7ce19-7427-40b7-ac8d-d6c95b18284b",
   "metadata": {},
   "outputs": [
    {
     "name": "stdout",
     "output_type": "stream",
     "text": [
      "x is 2 or less\n"
     ]
    }
   ],
   "source": [
    "x = 2\n",
    "\n",
    "if x > 5:\n",
    "    print(\"x is greater than 5\")\n",
    "elif x > 2:\n",
    "    print(\"x is greater than 2 but less than or equal to 5\")\n",
    "else:\n",
    "    print(\"x is 2 or less\")"
   ]
  },
  {
   "cell_type": "raw",
   "id": "72d3d741-3954-47bf-a6d5-4b361d6ca816",
   "metadata": {},
   "source": [
    "Explanation: Since neither 'x > 5' nor 'x > 2' is 'True', the 'else' block executes and prints \"x is 2 or less\"."
   ]
  },
  {
   "cell_type": "markdown",
   "id": "38472a55-2521-43a4-b470-aeeae7de4935",
   "metadata": {},
   "source": [
    "### Nested Conditional Statements\n",
    "You can nest 'if', 'elif', and 'else' statements inside each other to handle more complex conditions.\n",
    "\n",
    "Example:"
   ]
  },
  {
   "cell_type": "code",
   "execution_count": 2,
   "id": "8c990993-8d96-4a89-a54d-7b3b170c4bd3",
   "metadata": {},
   "outputs": [
    {
     "name": "stdout",
     "output_type": "stream",
     "text": [
      "x is between 0 and 10\n"
     ]
    }
   ],
   "source": [
    "x = 8\n",
    "\n",
    "if x > 0:\n",
    "    if x < 10:\n",
    "        print(\"x is between 0 and 10\")\n",
    "    else:\n",
    "        print(\"x is 10 or more\")\n",
    "else:\n",
    "    print(\"x is 0 or negative\")"
   ]
  },
  {
   "cell_type": "raw",
   "id": "2c268891-b842-43c1-9102-41f0d261d848",
   "metadata": {},
   "source": [
    "Explanation: Here, the outer 'if' condition checks 'if x > 0'. Since this is 'True', it then checks the inner 'if' condition \n",
    "'x < 10'. This condition is also 'True', so it prints \"x is between 0 and 10\"."
   ]
  },
  {
   "cell_type": "markdown",
   "id": "735d42d9-ea62-469c-89da-c52782c37684",
   "metadata": {},
   "source": [
    "### Conditional Expressions\n",
    "Python also supports conditional expressions (ternary operators) for simple conditional assignments.\n",
    "\n",
    "Syntax:"
   ]
  },
  {
   "cell_type": "raw",
   "id": "e113b545-6a3b-49a8-8cd6-7d3be34ebab1",
   "metadata": {},
   "source": [
    "value = true_value if condition else false_value"
   ]
  },
  {
   "cell_type": "markdown",
   "id": "9d446322-c322-43a9-a9d8-86ea9efe53ca",
   "metadata": {},
   "source": [
    "Example:"
   ]
  },
  {
   "cell_type": "code",
   "execution_count": 4,
   "id": "b1530476-928a-4729-ac6c-f6af59afbc2c",
   "metadata": {},
   "outputs": [
    {
     "name": "stdout",
     "output_type": "stream",
     "text": [
      "adult\n"
     ]
    }
   ],
   "source": [
    "age = 18\n",
    "status = \"adult\" if age >= 18 else \"minor\"\n",
    "print(status)  # Output: adult"
   ]
  },
  {
   "cell_type": "raw",
   "id": "34567ab6-8b3a-466f-9823-b377be1d0b56",
   "metadata": {},
   "source": [
    "Explanation: Here, age >= 18 is True, so status is assigned the value \"adult\"."
   ]
  },
  {
   "cell_type": "markdown",
   "id": "1435a196-9176-4ee6-bc5b-495e12d5e785",
   "metadata": {},
   "source": [
    "### Summary\n",
    "Conditional statements in Python allow you to control the flow of your program based on certain conditions. The basic forms are 'if', 'elif', and 'else', and you can also use nested conditionals and conditional expressions for more complex logic. Mastery of these constructs is essential for building decision-making functionality into your programs.\n"
   ]
  },
  {
   "cell_type": "markdown",
   "id": "c765ac20-c1c0-4378-b154-691d3724ffcb",
   "metadata": {},
   "source": [
    "## Question 7.  Describe the different types of loops in Python and their use cases with examples.\n",
    "In Python, loops are used to execute a block of code repeatedly based on certain conditions. Python provides several types of loops, each suited to different use cases. The primary types of loops are 'for' loops and 'while' loops. Additionally, Python includes control statements such as 'break', 'continue', and 'pass' to manage loop execution.\n",
    "\n",
    "### 1. 'for' Loop\n",
    "The 'for' loop in Python is used to iterate over a sequence (such as a list, tuple, dictionary, set, or string) or any iterable object. It is generally used when the number of iterations is known or finite\n",
    "\n",
    "Syntax:"
   ]
  },
  {
   "cell_type": "raw",
   "id": "3c8768e6-d9d7-43c9-96f3-e5e4d7bceb6d",
   "metadata": {},
   "source": [
    "for item in iterable:\n",
    "    # code to execute"
   ]
  },
  {
   "cell_type": "markdown",
   "id": "14845ec5-a2f0-4de8-bf19-6331123413f3",
   "metadata": {},
   "source": [
    "#### Examples:"
   ]
  },
  {
   "cell_type": "code",
   "execution_count": 5,
   "id": "da1a6e00-933a-4ac3-9c82-e086a9cc72f4",
   "metadata": {},
   "outputs": [
    {
     "name": "stdout",
     "output_type": "stream",
     "text": [
      "apple\n",
      "banana\n",
      "cherry\n"
     ]
    }
   ],
   "source": [
    "#1 Iterating Over a List:\n",
    "fruits = [\"apple\", \"banana\", \"cherry\"]\n",
    "for fruit in fruits:\n",
    "    print(fruit)"
   ]
  },
  {
   "cell_type": "code",
   "execution_count": 6,
   "id": "8db2a94b-5873-4914-aa94-dbc7752a384e",
   "metadata": {},
   "outputs": [
    {
     "name": "stdout",
     "output_type": "stream",
     "text": [
      "0\n",
      "1\n",
      "2\n",
      "3\n",
      "4\n"
     ]
    }
   ],
   "source": [
    "#2. Iterating Over a Range of Numbers:\n",
    "for i in range(5):\n",
    "    print(i)"
   ]
  },
  {
   "cell_type": "raw",
   "id": "6bffc0a2-0e5c-46bb-b294-6380a40c3994",
   "metadata": {},
   "source": [
    "Explanation: 'range(5)' generates numbers from 0 to 4."
   ]
  },
  {
   "cell_type": "code",
   "execution_count": 7,
   "id": "17ef7ee8-b748-4ce9-adc7-b88dc10946ad",
   "metadata": {},
   "outputs": [
    {
     "name": "stdout",
     "output_type": "stream",
     "text": [
      "h\n",
      "e\n",
      "l\n",
      "l\n",
      "o\n"
     ]
    }
   ],
   "source": [
    "#3. Iterating Over a String:\n",
    "for char in \"hello\":\n",
    "    print(char)"
   ]
  },
  {
   "cell_type": "code",
   "execution_count": 8,
   "id": "0f9af05d-c5fb-40b6-bce1-fcb3a0d19bde",
   "metadata": {},
   "outputs": [
    {
     "name": "stdout",
     "output_type": "stream",
     "text": [
      "Alice: 85\n",
      "Bob: 90\n",
      "Charlie: 78\n"
     ]
    }
   ],
   "source": [
    "#4. Iterating Over a Dictionary:\n",
    "student_grades = {\"Alice\": 85, \"Bob\": 90, \"Charlie\": 78}\n",
    "for student, grade in student_grades.items():\n",
    "    print(f\"{student}: {grade}\")"
   ]
  },
  {
   "cell_type": "markdown",
   "id": "ce876166-3046-4dfb-99b4-d5cccad2764f",
   "metadata": {},
   "source": [
    "### 'while' Loop\n",
    "The 'while' loop is used to execute a block of code as long as a condition is 'True'. It is useful when the number of iterations is not known beforehand or when the loop needs to run until a specific condition changes.\n",
    "\n",
    "Syntax:"
   ]
  },
  {
   "cell_type": "raw",
   "id": "7f42035e-d80e-4394-87da-aca7aca00b75",
   "metadata": {},
   "source": [
    "while condition:\n",
    "    # code to execute"
   ]
  },
  {
   "cell_type": "markdown",
   "id": "458bc363-d98d-4f83-88d0-56eee449105a",
   "metadata": {},
   "source": [
    "#### Examples:"
   ]
  },
  {
   "cell_type": "code",
   "execution_count": 13,
   "id": "78c57aa6-fa0a-4b01-8ad2-f1e0ed77d186",
   "metadata": {},
   "outputs": [
    {
     "name": "stdout",
     "output_type": "stream",
     "text": [
      "0\n",
      "1\n",
      "2\n",
      "3\n",
      "4\n"
     ]
    },
    {
     "data": {
      "text/plain": [
       "'Explanation: The loop runs as long as count is less \\nthan 5, incrementing count by 1 in each iteration.'"
      ]
     },
     "execution_count": 13,
     "metadata": {},
     "output_type": "execute_result"
    }
   ],
   "source": [
    "#1. Basic 'while' Loop:\n",
    "count = 0\n",
    "while count < 5:\n",
    "    print(count)\n",
    "    count += 1\n",
    "\"\"\"Explanation: The loop runs as long as count is less \n",
    "than 5, incrementing count by 1 in each iteration.\"\"\""
   ]
  },
  {
   "cell_type": "code",
   "execution_count": null,
   "id": "4090dc80-3454-4726-8b58-1ad9c328d069",
   "metadata": {},
   "outputs": [],
   "source": [
    "#2. Infinite Loop with 'break':\n",
    "while True:\n",
    "    response = input(\"Type 'exit' to stop: \")\n",
    "    if response == 'exit':\n",
    "        break\n",
    "\"\"\"Explanation: This loop will continue to prompt the user until they type 'exit'.\n",
    "The break statement is used to exit the loop.\"\"\""
   ]
  },
  {
   "cell_type": "markdown",
   "id": "0da15f4c-fe0d-4f9f-8f67-a6c090b24d1d",
   "metadata": {},
   "source": [
    "### 3. Loop Control Statements\n",
    "Control statements like 'break', 'continue', and 'pass' help manage the flow of loops."
   ]
  },
  {
   "cell_type": "code",
   "execution_count": 1,
   "id": "d643dd5d-73de-4e41-b342-37027b6e90c2",
   "metadata": {},
   "outputs": [
    {
     "name": "stdout",
     "output_type": "stream",
     "text": [
      "0\n",
      "1\n",
      "2\n",
      "3\n",
      "4\n"
     ]
    },
    {
     "data": {
      "text/plain": [
       "' Explanation: The loop exits when i equals 5,\\nso numbers after 4 are not printed.'"
      ]
     },
     "execution_count": 1,
     "metadata": {},
     "output_type": "execute_result"
    }
   ],
   "source": [
    "#1. 'break': Exits the loop prematurely.\n",
    "for i in range(10):\n",
    "    if i == 5:\n",
    "        break\n",
    "    print(i)\n",
    "\"\"\" Explanation: The loop exits when i equals 5,\n",
    "so numbers after 4 are not printed.\"\"\""
   ]
  },
  {
   "cell_type": "code",
   "execution_count": 2,
   "id": "afe517ac-9fd7-4bb5-9160-b1b40fecfd62",
   "metadata": {},
   "outputs": [
    {
     "name": "stdout",
     "output_type": "stream",
     "text": [
      "1\n",
      "3\n",
      "5\n",
      "7\n",
      "9\n"
     ]
    },
    {
     "data": {
      "text/plain": [
       "'Explanation: Even numbers are skipped due to continue,\\nso only odd numbers are printed.'"
      ]
     },
     "execution_count": 2,
     "metadata": {},
     "output_type": "execute_result"
    }
   ],
   "source": [
    "#2 'continue' :  Skips the rest of the code inside the loop for the current iteration and proceeds to the next iteration.\n",
    "for i in range(10):\n",
    "    if i % 2 == 0:\n",
    "        continue\n",
    "    print(i)\n",
    "'''Explanation: Even numbers are skipped due to continue,\n",
    "so only odd numbers are printed.'''"
   ]
  },
  {
   "cell_type": "markdown",
   "id": "a73f1dd3-d25a-4686-b2a7-cf28c5c37fc3",
   "metadata": {},
   "source": [
    "### Summary\n",
    "-> for Loops: Ideal for iterating over a known sequence or range of values. Used when the number of iterations is predetermined.\n",
    "-> while Loops: Suitable for situations where the number of iterations is not known and the loop should continue as long as a condition is True.\n",
    "-> Control Statements: break exits the loop, continue skips the current iteration, and pass acts as a placeholder for future code.\n",
    "#### Understanding and utilizing these loops and control statements effectively allows you to write flexible and efficient code to handle repetitive tasks and dynamic conditions in your programs.\n"
   ]
  }
 ],
 "metadata": {
  "kernelspec": {
   "display_name": "Python 3 (ipykernel)",
   "language": "python",
   "name": "python3"
  },
  "language_info": {
   "codemirror_mode": {
    "name": "ipython",
    "version": 3
   },
   "file_extension": ".py",
   "mimetype": "text/x-python",
   "name": "python",
   "nbconvert_exporter": "python",
   "pygments_lexer": "ipython3",
   "version": "3.10.8"
  },
  "toc-autonumbering": true,
  "toc-showcode": false,
  "toc-showmarkdowntxt": true
 },
 "nbformat": 4,
 "nbformat_minor": 5
}
